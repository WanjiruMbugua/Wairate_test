{
 "cells": [
  {
   "cell_type": "markdown",
   "metadata": {},
   "source": [
    "# Chicago Car Crash Data"
   ]
  },
  {
   "cell_type": "markdown",
   "metadata": {},
   "source": [
    "## Predicting Causes of Chicago Car Accidents & Injuries "
   ]
  },
  {
   "cell_type": "markdown",
   "metadata": {},
   "source": [
    "## By: Group 17"
   ]
  },
  {
   "cell_type": "markdown",
   "metadata": {},
   "source": [
    "In the year 2023 the city of Chicago recorded over one hundred thousand traffic accidents.Over two thousand drivers, passengers and pedestrians are involved and experience fatal or no injuries \n",
    "\n",
    "The goal is to build a classifier to predict the cause of total inuries in a car accident, given information about the vehicle age,weather condition,age of the drivers and trafficcontrol device status\n",
    "\n",
    "If successful and the City of Chicago implements our recommendations, Chicago will see a decrease in injuries and accidents, decrease in traffic and an overall increase in safety for all citizens.  "
   ]
  },
  {
   "cell_type": "markdown",
   "metadata": {},
   "source": [
    "## Dataset"
   ]
  },
  {
   "cell_type": "markdown",
   "metadata": {},
   "source": [
    "The source for the datasets came from the Chicago data portal. There were three datasets that we observed, \"Traffic Crashes - Crashes\", \"Traffic Crashes - Vehicle\", and \"Traffic Crashes - People\". Then we merged them into one database. "
   ]
  },
  {
   "cell_type": "markdown",
   "metadata": {},
   "source": [
    "Column names and descriptions can be found in the notebook named chicago crushes column names\n"
   ]
  },
  {
   "cell_type": "markdown",
   "metadata": {},
   "source": [
    "## Methodology"
   ]
  },
  {
   "cell_type": "markdown",
   "metadata": {},
   "source": [
    ">Obtain:\n",
    "* Extracting the data from the following files;\n",
    "    * Crash = https://data.cityofchicago.org/Transportation/Traffic-Crashes-Crashes/85ca-t3if/data_preview\n",
    "    * Vehicle = https://data.cityofchicago.org/Transportation/Traffic-Crashes-Vehicles/68nd-jvt3/data_preview\n",
    "    * People = https://data.cityofchicago.org/Transportation/Traffic-Crashes-People/u6pd-qa9d/data_preview\n",
    "\n",
    ">Scrub:\n",
    "* Explore the raw data set and understand the values\n",
    "* Understanding the null values and deciding whether to drop,fill or replace them\n",
    "* Replacing values with meaningful data and converting data types\n",
    "* Deleting irrelevant and redundant columns \n",
    "\n",
    ">Explore:\n",
    "* Creating visualizations to better understand the data\n",
    "* Engineering New Columns \n",
    "* Deriving statistics from the data\n",
    "\n",
    ">Model:\n",
    " * Created multiple models including KNN and decision trees\n",
    " \n",
    "\n",
    ">Intrepret:\n",
    "* Evaluating the accuracy score which led to both models having a high accuracy"
   ]
  },
  {
   "cell_type": "markdown",
   "metadata": {},
   "source": [
    "## Results"
   ]
  },
  {
   "cell_type": "markdown",
   "metadata": {},
   "source": [
    "### Original Data"
   ]
  },
  {
   "cell_type": "markdown",
   "metadata": {},
   "source": [
    "The first steps to creating our model was to load the dataset the various data set separately and do cleaning on each by dropping the columns with the highest number of null values.We then mrged the cleaned dataset and renamed it to merged dataset which we further did cleaning by eliminating duplicates and irrelevant columns that would not be used in modelling\n",
    "This dataset had 529191 rows and 39 columns and this was still a huge dataset to work with we therefore filtered the dataset to only include the year 2023 and we were left with 68767 rows and 39columns \n",
    "\n",
    "Furthermore, we created bins or remapped the values to a more simple form for the following columns; \n",
    "   * crash_hour\n",
    "   * age\n",
    "   * posted_speed_limit\n",
    "   * traffic_control_device\n",
    "   * weather_condition\n",
    "   * crash_date\n",
    "   * vehicle_year"
   ]
  },
  {
   "cell_type": "markdown",
   "metadata": {},
   "source": [
    "### Identifying Target"
   ]
  },
  {
   "cell_type": "markdown",
   "metadata": {},
   "source": [
    "The target column is 'injuries_total'. We converted to '1' if you had one or more injuries and '0' if you had none. The column has been renamed to 'Injuries'. "
   ]
  },
  {
   "cell_type": "markdown",
   "metadata": {},
   "source": [
    "### Train-Test split"
   ]
  },
  {
   "cell_type": "markdown",
   "metadata": {},
   "source": [
    "We ran a train-test-split to split the data into training,validation and test sets. We then split the categorical and numerical columns to enable encoding \n",
    "\n",
    "\n"
   ]
  },
  {
   "cell_type": "markdown",
   "metadata": {},
   "source": [
    "### Model"
   ]
  },
  {
   "cell_type": "markdown",
   "metadata": {},
   "source": [
    "We tested the following models k-nearest neighbors and decision trees.\n",
    "They both returned an accuracy rate of 83%"
   ]
  },
  {
   "cell_type": "markdown",
   "metadata": {},
   "source": [
    "## Conclusion and observation"
   ]
  },
  {
   "cell_type": "markdown",
   "metadata": {},
   "source": [
    "* Most of the injuries recorded were caused by drivers between the age of 25 to 50 years falling into the adult category\n",
    "* Based on the data, it shows that most accidents occur in the afternoon/rush hour.\n",
    "* It also shows that most accidents occur in speed limit zones labeled between 30-40 mph.\n",
    "* Most of the vehicles involved in the accidents fell into the old category that is they were in the road for a period of more than ten years\n",
    "* Most of the accidents occured where there were no traffic signals but less injuries were observed "
   ]
  },
  {
   "cell_type": "markdown",
   "metadata": {},
   "source": [
    "## Recommendations"
   ]
  },
  {
   "cell_type": "markdown",
   "metadata": {},
   "source": [
    "The following are our recommendations ;\n",
    "* The city to put restrictions on vehicles allowed in roads to be below ten years\n",
    "* The city lowers the speed limit during afternoon/rush hour or more patrol in the 30-40 mph zones.\n",
    "* The city should increase the traffic control devices to reduce in accidents occurences"
   ]
  }
 ],
 "metadata": {
  "kernelspec": {
   "display_name": "Python 3 (ipykernel)",
   "language": "python",
   "name": "python3"
  },
  "language_info": {
   "codemirror_mode": {
    "name": "ipython",
    "version": 3
   },
   "file_extension": ".py",
   "mimetype": "text/x-python",
   "name": "python",
   "nbconvert_exporter": "python",
   "pygments_lexer": "ipython3",
   "version": "3.11.4"
  },
  "toc": {
   "base_numbering": 1,
   "nav_menu": {},
   "number_sections": true,
   "sideBar": true,
   "skip_h1_title": false,
   "title_cell": "Table of Contents",
   "title_sidebar": "Contents",
   "toc_cell": false,
   "toc_position": {},
   "toc_section_display": true,
   "toc_window_display": false
  }
 },
 "nbformat": 4,
 "nbformat_minor": 2
}
